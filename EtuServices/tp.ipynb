{
 "cells": [
  {
   "cell_type": "code",
   "execution_count": null,
   "metadata": {},
   "outputs": [],
   "source": [
    "%pip install redis\n",
    "import redis\n",
    "r = redis.Redis()\n",
    "r.ping()"
   ]
  },
  {
   "attachments": {},
   "cell_type": "markdown",
   "metadata": {},
   "source": [
    "QST 7 et 8"
   ]
  },
  {
   "cell_type": "code",
   "execution_count": 6,
   "metadata": {},
   "outputs": [
    {
     "name": "stdout",
     "output_type": "stream",
     "text": [
      "True\n",
      "False\n"
     ]
    }
   ],
   "source": [
    "import time\n",
    "\n",
    "# Connect to the Redis server\n",
    "r = redis.Redis(host='127.0.0.1', port=6379, db=0)\n",
    "\n",
    "def check_user_permission(username, service):\n",
    "    \"\"\"\n",
    "    Check if the user is authorized to access a specific service\n",
    "    \"\"\"\n",
    "    # Check if the user is in the set of authorized users for the service\n",
    "    if r.sismember(service, username):\n",
    "        return True\n",
    "    else:\n",
    "        return False\n",
    "\n",
    "def handle_login(username, password):\n",
    "    \"\"\"\n",
    "    Handle a user login request\n",
    "    \"\"\"\n",
    "    # Check if the user is in the set of authorized users for the service\n",
    "    if r.sismember('authorized_users', username):\n",
    "        # Check if the provided password matches the one stored in Redis\n",
    "        if r.hget('users', username) == password:\n",
    "            now = int(time.time())\n",
    "            # Check if the user has exceeded the maximum number of connections\n",
    "            # within the last 10 minutes\n",
    "            if r.get(username + \":last_connection_time\") and (now - int(r.get(username + \":last_connection_time\")) < 600):\n",
    "                if int(r.get(username + \":connection_count\")) < 10:\n",
    "                    r.incr(username + \":connection_count\")\n",
    "                    r.set(username + \":last_connection_time\", now)\n",
    "                    return True\n",
    "                else:\n",
    "                    return False\n",
    "            else:\n",
    "                r.set(username + \":connection_count\", 1)\n",
    "                r.set(username + \":last_connection_time\", now)\n",
    "                return True\n",
    "        else:\n",
    "            return False\n",
    "    else:\n",
    "        return False\n",
    "    \n",
    "def add_user_permission(username, service):\n",
    "    \"\"\"\n",
    "    Add a user to the set of authorized users for a service\n",
    "    \"\"\"\n",
    "    r.sadd(service, username)\n",
    "\n",
    "def remove_user_permission(username, service):\n",
    "    \"\"\"\n",
    "    Remove a user from the set of authorized users for a service\n",
    "    \"\"\"\n",
    "    r.srem(service, username)\n",
    "\n",
    "\n",
    "# Example usage\n",
    "\n",
    "# Add a user to the set of authorized users for the Sale service\n",
    "add_user_permission('user1', 'Sale')\n",
    "\n",
    "# Check if the user is authorized to access the Sale service\n",
    "print(check_user_permission('user1', 'Sale')) # Output: True\n",
    "\n",
    "# Remove the user's permission to access the Sale service\n",
    "remove_user_permission('user1', 'Sale')\n",
    "\n",
    "# Check if the user is authorized to access the Sale service\n",
    "print(check_user_permission('user1', 'Sale')) # Output: False\n"
   ]
  },
  {
   "cell_type": "code",
   "execution_count": 7,
   "metadata": {},
   "outputs": [
    {
     "name": "stdout",
     "output_type": "stream",
     "text": [
      "[b'1674059778']\n"
     ]
    }
   ],
   "source": [
    "import redis\n",
    "\n",
    "# Connect to the Redis server\n",
    "r = redis.Redis(host='127.0.0.1', port=6379, db=1)\n",
    "\n",
    "def log_service_call(username, service):\n",
    "    \"\"\"\n",
    "    Log a service call made by a user\n",
    "    \"\"\"\n",
    "    now = int(time.time())\n",
    "    r.lpush(username + \":\" + service, now)\n",
    "    r.ltrim(username + \":\" + service, 0, 9)\n",
    "\n",
    "def get_user_service_calls(username, service):\n",
    "    \"\"\"\n",
    "    Get the service calls made by a user\n",
    "    \"\"\"\n",
    "    return r.lrange(username + \":\" + service, 0, -1)\n",
    "\n",
    "# Example usage\n",
    "\n",
    "# Log a Sale service call made by user1\n",
    "log_service_call('user1', 'Sale')\n",
    "\n",
    "# Get the Sale service calls made by user1\n",
    "print(get_user_service_calls('user1', 'Sale')) # Output: [1623472800]\n"
   ]
  }
 ],
 "metadata": {
  "kernelspec": {
   "display_name": "Python 3",
   "language": "python",
   "name": "python3"
  },
  "language_info": {
   "codemirror_mode": {
    "name": "ipython",
    "version": 3
   },
   "file_extension": ".py",
   "mimetype": "text/x-python",
   "name": "python",
   "nbconvert_exporter": "python",
   "pygments_lexer": "ipython3",
   "version": "3.10.9 (tags/v3.10.9:1dd9be6, Dec  6 2022, 20:01:21) [MSC v.1934 64 bit (AMD64)]"
  },
  "orig_nbformat": 4,
  "vscode": {
   "interpreter": {
    "hash": "66f804da07f0f556d77bc3269dc5bb19edf020422864031af2885e5ff55f9079"
   }
  }
 },
 "nbformat": 4,
 "nbformat_minor": 2
}
